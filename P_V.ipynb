{
 "cells": [
  {
   "cell_type": "code",
   "execution_count": null,
   "metadata": {},
   "outputs": [],
   "source": [
    "import matplotlib.pyplot as plt\n",
    "\n",
    "pressures = [1, 2, 3, 4, 5, 6]\n",
    "means = []\n",
    "stdevs = []\n",
    "\n",
    "for pressure in pressures:\n",
    "    directory = 'D:/MSc/summer_project/p' + str(pressure)\n",
    "    file_path = directory + '/pressure.out'\n",
    "    with open(file_path, 'r') as file:\n",
    "        data = file.readlines()\n",
    "        x_values = []\n",
    "        y_values = []\n",
    "        for line in data:\n",
    "            x, y = map(float, line.split())  # Split the line and convert to floats\n",
    "            x_values.append(x)\n",
    "            y_values.append(y)\n",
    "        mean = statistics.mean(y_values)\n",
    "        stdev = statistics.stdev(y_values)\n",
    "        means.append(mean)\n",
    "        stdevs.append(stdev)\n",
    "        #plt.plot(x_values, y_values, label = pressure, color = '#9d0208')\n",
    "        #plt.axhline(mean, color='black', linestyle='dashed')#, label='Mean')\n",
    "        #plt.show()\n",
    "\n",
    "cell_lengths = [33.7316000000000, 32.0000000000000, 30.0000000000000, 28.4944116841394, 28.0563780094177, 26.8879850364710]\n",
    "volumes = [length **3 for length in cell_lengths]\n",
    "\n",
    "with open('P_V_data.txt', 'w') as file:\n",
    "    file.write('P\\tp_au\\tstdev_p_au\\tcell_length_au\\tvolume_au\\n')\n",
    "    for x in zip(pressures, means, stdevs, cell_lengths, volumes):\n",
    "        file.write(\"{0}\\t{1}\\t{2}\\t{3}\\t{4}\\n\".format(*x))"
   ]
  }
 ],
 "metadata": {
  "kernelspec": {
   "display_name": "msc_summer_project",
   "language": "python",
   "name": "python3"
  },
  "language_info": {
   "name": "python",
   "version": "3.10.12"
  },
  "orig_nbformat": 4
 },
 "nbformat": 4,
 "nbformat_minor": 2
}
