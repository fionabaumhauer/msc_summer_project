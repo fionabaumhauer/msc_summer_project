{
 "cells": [
  {
   "cell_type": "code",
   "execution_count": 2,
   "metadata": {},
   "outputs": [],
   "source": [
    "import matplotlib.pyplot as plt\n",
    "from scipy import integrate\n",
    "import math\n",
    "\n",
    "def get_rdf_values(pressure, pair):\n",
    "    directory = 'D:/MSc/summer_project/p' + str(pressure)\n",
    "    file_path = directory + '/rdf.out' + pair + '.txt'\n",
    "    with open(file_path, 'r') as file:\n",
    "        data = file.readlines()\n",
    "        x_values = []\n",
    "        y_values = []\n",
    "        for line in data:\n",
    "            x, y = map(float, line.split())\n",
    "            x_values.append(x)\n",
    "            y_values.append(y)\n",
    "    return x_values, y_values\n",
    "    \n",
    "def plot_rdf(pair,pressure, x_values,y_values):\n",
    "    label = 'P' + str(pressure)\n",
    "    colour = 'red'\n",
    "    plt.plot(x_values, y_values, label = label, color = colour)\n",
    "\n",
    "    plt.legend()\n",
    "    plt.xlim(-1,30)\n",
    "    plt.ylim(-0.2,20)\n",
    "    plt.xlabel('r [$a_0$]')\n",
    "    plt.ylabel('g(r)')\n",
    "    plt.grid(True)\n",
    "\n",
    "    title_label = ''\n",
    "    for character in pair[:-1]:\n",
    "        if character == '1':\n",
    "            title_label += 'O-'\n",
    "        elif character == '2':\n",
    "            title_label += 'C-'\n",
    "        elif character == '3':\n",
    "            title_label += 'Na-'\n",
    "        else:\n",
    "            print('Invalid character:', character)\n",
    "            break\n",
    "    title_label = title_label[:-1]\n",
    "    plt.title('Radial Distribution Functions for ' + title_label)\n",
    "\n",
    "######################\n",
    "\n",
    "def find_max(lower_index, upper_index, x_values, y_values):\n",
    "    plt.plot(x_values[lower_index],0, marker = '|', color = 'black', markersize = 100)\n",
    "    plt.plot(x_values[upper_index],0, marker = '|', color = 'black', markersize = 100)\n",
    "    max_index = None\n",
    "    if upper_index - lower_index <= 50:\n",
    "        print('x\\ty')\n",
    "        for index, values in enumerate(zip(x_values[lower_index:upper_index],y_values[lower_index:upper_index])):\n",
    "            print(index+lower_index, '\\t', values[0], '\\t', values[1])\n",
    "        highest_value = max(y_values[lower_index:upper_index])\n",
    "        for index, values in enumerate(zip(x_values[lower_index:upper_index],y_values[lower_index:upper_index])):\n",
    "            if values[1] == highest_value:\n",
    "                print('The first maximum is at index ' + str(index+lower_index) + ' with x = ' + str(values[0]) + ' and y = ' + str(values[1])+'.')\n",
    "                max_index = index + lower_index\n",
    "                break\n",
    "    return max_index\n"
   ]
  },
  {
   "cell_type": "code",
   "execution_count": 4,
   "metadata": {},
   "outputs": [
    {
     "name": "stdout",
     "output_type": "stream",
     "text": [
      "x\ty\n",
      "90 \t 3.61999991908669 \t 0.528513943814194\n",
      "91 \t 3.65999991819263 \t 1.17031522525792\n",
      "92 \t 3.69999991729856 \t 2.16569704432835\n",
      "93 \t 3.73999991640449 \t 3.26425401617121\n",
      "94 \t 3.77999991551042 \t 4.20711726900541\n",
      "95 \t 3.81999991461635 \t 4.35441050765903\n",
      "96 \t 3.85999991372228 \t 3.90583125269187\n",
      "97 \t 3.89999991282821 \t 3.13558087000157\n",
      "98 \t 3.93999991193414 \t 2.12465712099608\n",
      "99 \t 3.97999991104007 \t 1.31579078725975\n",
      "100 \t 4.019999910146 \t 0.679792601848728\n",
      "101 \t 4.05999990925193 \t 0.30662933790987\n",
      "102 \t 4.09999990835786 \t 0.106965111720758\n",
      "103 \t 4.13999990746379 \t 0.0291343532498909\n",
      "104 \t 4.17999990656972 \t 0.007084816712163738\n",
      "105 \t 4.21999990567565 \t 0.007540225007175249\n",
      "106 \t 4.25999990478158 \t 0.01676401723085489\n",
      "107 \t 4.29999990388751 \t 0.03574398722678881\n",
      "108 \t 4.33999990299344 \t 0.07296107967460545\n",
      "109 \t 4.37999990209937 \t 0.117677522717473\n",
      "The first maximum is at index 95 with x = 3.81999991461635 and y = 4.35441050765903.\n"
     ]
    },
    {
     "data": {
      "text/plain": [
       "95"
      ]
     },
     "execution_count": 4,
     "metadata": {},
     "output_type": "execute_result"
    },
    {
     "data": {
      "image/png": "[encoded data removed]",
      "text/plain": [
       "<Figure size 640x480 with 1 Axes>"
      ]
     },
     "metadata": {},
     "output_type": "display_data"
    }
   ],
   "source": [
    "pressure = 6\n",
    "pair = '111' #pairs = ['111','121', '131', '221', '231','331']\n",
    "\n",
    "lower_index = 90\n",
    "upper_index = 110\n",
    "\n",
    "x_values, y_values = get_rdf_values(pressure, pair)\n",
    "plot_rdf(pair,pressure,x_values,y_values)\n",
    "find_max(lower_index, upper_index, x_values, y_values)"
   ]
  },
  {
   "cell_type": "code",
   "execution_count": null,
   "metadata": {},
   "outputs": [],
   "source": [
    "p1_separations = [3.97999991104007]\n",
    "p2_separations = [3.97999991104007]\n",
    "p3_separations = [3.93999991193414]\n",
    "p4_separations = [3.89999991282821]\n",
    "p5_separations = [3.85999991372228]\n",
    "p6_separations = [3.81999991461635]"
   ]
  }
 ],
 "metadata": {
  "kernelspec": {
   "display_name": "msc_summer_project",
   "language": "python",
   "name": "python3"
  },
  "language_info": {
   "codemirror_mode": {
    "name": "ipython",
    "version": 3
   },
   "file_extension": ".py",
   "mimetype": "text/x-python",
   "name": "python",
   "nbconvert_exporter": "python",
   "pygments_lexer": "ipython3",
   "version": "3.10.12"
  },
  "orig_nbformat": 4
 },
 "nbformat": 4,
 "nbformat_minor": 2
}
