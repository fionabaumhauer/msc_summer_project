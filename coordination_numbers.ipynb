{
 "cells": [
  {
   "cell_type": "code",
   "execution_count": 15,
   "metadata": {},
   "outputs": [
    {
     "name": "stdout",
     "output_type": "stream",
     "text": [
      "x\ty\n",
      "65 \t 2.61999994143844 \t 45.6007996205915\n",
      "66 \t 2.65999994054437 \t 35.1460299805664\n",
      "67 \t 2.6999999396503 \t 17.9337065941941\n",
      "68 \t 2.73999993875623 \t 5.81264267423829\n",
      "69 \t 2.77999993786216 \t 1.20199844107015\n",
      "70 \t 2.81999993696809 \t 0.153147661375951\n",
      "71 \t 2.85999993607402 \t 0.01519324867817847\n",
      "72 \t 2.89999993517995 \t 0.001477702168667795\n",
      "73 \t 2.93999993428588 \t 0.0\n",
      "74 \t 2.97999993339181 \t 0.0\n",
      "75 \t 3.01999993249774 \t 0.0\n",
      "76 \t 3.05999993160367 \t 0.0\n",
      "77 \t 3.0999999307096 \t 0.0\n",
      "78 \t 3.13999992981553 \t 0.0\n",
      "79 \t 3.17999992892146 \t 0.0\n",
      "The first minimum is at index 73 with x = 2.93999993428588 and y = 0.0.\n"
     ]
    },
    {
     "data": {
      "image/png": "[encoded data removed]",
      "text/plain": [
       "<Figure size 640x480 with 1 Axes>"
      ]
     },
     "metadata": {},
     "output_type": "display_data"
    }
   ],
   "source": [
    "import os\n",
    "import matplotlib.pyplot as plt\n",
    "\n",
    "pressure = 1\n",
    "\n",
    "################ CHANGE ACCORDING TO ATOM TYPE\n",
    "cell_lengths = [33.7316000000000, 32.0000000000000, 30.0000000000000, 28.4944116841394, 28.0563780094177, 26.8879850364710]\n",
    "volume = cell_lengths[pressure-1] ** 3\n",
    "no_of_atoms = 64 #192 for O, 128 for Na, 64 for C\n",
    "rho = no_of_atoms / volume\n",
    "\n",
    "#pairs = ['111','121', '131', '221', '231','331']\n",
    "pair = '121'\n",
    "######################\n",
    "\n",
    "parent_directory = 'D:/MSc/summer_project/'\n",
    "directory = 'D:/MSc/summer_project/p' + str(pressure)\n",
    "file_path = os.path.join(directory, 'rdf.out' + pair + '.txt')\n",
    "with open(file_path, 'r') as file:\n",
    "    data = file.readlines()\n",
    "    x_values = []\n",
    "    y_values = []\n",
    "    for line in data:\n",
    "        x, y = map(float, line.split())\n",
    "        x_values.append(x)\n",
    "        y_values.append(y)\n",
    "        \n",
    "label = 'P' + str(pressure)\n",
    "colour = 'red'\n",
    "plt.plot(x_values, y_values, label = label, color = colour)\n",
    "\n",
    "plt.legend()\n",
    "plt.xlim(-1,30)\n",
    "plt.ylim(-0.2,5)\n",
    "plt.xlabel('r [$a_0$]')\n",
    "plt.ylabel('g(r)')\n",
    "plt.grid(True)\n",
    "\n",
    "title_label = ''\n",
    "for character in pair[:-1]:\n",
    "    if character == '1':\n",
    "        title_label += 'O-'\n",
    "    elif character == '2':\n",
    "        title_label += 'C-'\n",
    "    elif character == '3':\n",
    "        title_label += 'Na-'\n",
    "    else:\n",
    "        print('Invalid character:', character)\n",
    "        break\n",
    "title_label = title_label[:-1]\n",
    "plt.title('Radial Distribution Functions for ' + title_label)\n",
    "\n",
    "#####\n",
    "\n",
    "def pick_range(lower_index, upper_index, x_values, y_values):\n",
    "    plt.plot(x_values[lower_index],0, marker = '|', color = 'black', markersize = 30)\n",
    "    plt.plot(x_values[upper_index],0, marker = '|', color = 'black', markersize = 30)\n",
    "    if upper_index - lower_index <= 50:\n",
    "        print('x\\ty')\n",
    "        for index, values in enumerate(zip(x_values[lower_index:upper_index],y_values[lower_index:upper_index])):\n",
    "            print(index+lower_index, '\\t', values[0], '\\t', values[1])\n",
    "        lowest_value = min(y_values)\n",
    "        for index, values in enumerate(zip(x_values[lower_index:upper_index],y_values[lower_index:upper_index])):\n",
    "            if values[1] == lowest_value:\n",
    "                print('The first minimum is at index ' + str(index+lower_index) + ' with x = ' + str(values[0]) + ' and y = ' + str(values[1])+'.')\n",
    "                break\n",
    "\n",
    "\n",
    "lower_index = 65\n",
    "upper_index = 80\n",
    "pick_range(lower_index, upper_index, x_values, y_values)"
   ]
  },
  {
   "cell_type": "code",
   "execution_count": 16,
   "metadata": {},
   "outputs": [
    {
     "name": "stdout",
     "output_type": "stream",
     "text": [
      "The coordination number is 0.9999753224423222\n"
     ]
    },
    {
     "data": {
      "text/plain": [
       "0.9999753224423222"
      ]
     },
     "execution_count": 16,
     "metadata": {},
     "output_type": "execute_result"
    }
   ],
   "source": [
    "from scipy import integrate\n",
    "import math\n",
    "\n",
    "index_at_min = 73\n",
    "\n",
    "def calculate_cn(x_values, y_values, index_at_min, rho):\n",
    "    to_be_integrated = [y * (x**2) for y, x in zip(y_values[:index_at_min], x_values[:index_at_min])]\n",
    "    integral = integrate.trapezoid(to_be_integrated, x_values[:index_at_min])\n",
    "    coordination_number = 4 * math.pi * rho * integral\n",
    "    print('The coordination number is ' + str(coordination_number))\n",
    "    return coordination_number\n",
    "\n",
    "calculate_cn(x_values, y_values, index_at_min, rho)\n"
   ]
  },
  {
   "cell_type": "code",
   "execution_count": 26,
   "metadata": {},
   "outputs": [
    {
     "name": "stdout",
     "output_type": "stream",
     "text": [
      "['#ffba08', '#f48c06', '#e85d04', '#dc2f02', '#9d0208', '#370617']\n"
     ]
    }
   ],
   "source": [
    "#cell_lengths = [33.7316000000000, 32.0000000000000, 30.0000000000000, 28.4944116841394, 28.0563780094177, 26.88798503647\n",
    "print(colours)"
   ]
  }
 ],
 "metadata": {
  "kernelspec": {
   "display_name": "msc_summer_project",
   "language": "python",
   "name": "python3"
  },
  "language_info": {
   "codemirror_mode": {
    "name": "ipython",
    "version": 3
   },
   "file_extension": ".py",
   "mimetype": "text/x-python",
   "name": "python",
   "nbconvert_exporter": "python",
   "pygments_lexer": "ipython3",
   "version": "3.10.12"
  },
  "orig_nbformat": 4
 },
 "nbformat": 4,
 "nbformat_minor": 2
}
